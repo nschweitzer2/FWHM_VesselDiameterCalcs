{
 "cells": [
  {
   "cell_type": "code",
   "execution_count": 1,
   "id": "2a204c6a",
   "metadata": {},
   "outputs": [],
   "source": [
    "import numpy as np\n",
    "import SimpleITK as sitk\n",
    "import pyvista as pv\n",
    "from pyvista import examples\n",
    "from numba import njit, prange\n",
    "from skimage import measure\n",
    "import scipy.io as sio\n",
    "from pyvistaqt import BackgroundPlotter"
   ]
  },
  {
   "cell_type": "code",
   "execution_count": 2,
   "id": "c986f9dc",
   "metadata": {},
   "outputs": [],
   "source": [
    "import pdb\n",
    "def lines_from_points(points):\n",
    "    \"\"\"Given an array of points, make a line set\"\"\"\n",
    "    poly = pv.PolyData()\n",
    "    poly.points = points\n",
    "    cells = np.full((len(points) - 1, 3), 2, dtype=np.int_)\n",
    "    cells[:, 1] = np.arange(0, len(points) - 1, dtype=np.int_)\n",
    "    cells[:, 2] = np.arange(1, len(points), dtype=np.int_)\n",
    "    poly.lines = cells\n",
    "    return poly\n",
    "\n",
    "\n",
    "def create_tubes(start_point, end_point, query, streamline_width=0.0001):\n",
    "    tubes = []\n",
    "\n",
    "    norm_query = query / np.max(np.abs(query))\n",
    "\n",
    "    # Create tubes\n",
    "    for element in range(len(query)):\n",
    "        points = np.vstack([start_point[element], end_point[element]])\n",
    "        #pdb.set_trace()\n",
    "        line = lines_from_points(points)\n",
    "        line[\"query\"] = np.array([query[element]])\n",
    "\n",
    "        tubes.append(line.tube(radius=streamline_width * norm_query[element]))\n",
    "\n",
    "    return tubes\n",
    "\n",
    "def create_spheres(branch_points,rad=1,res=30):\n",
    "    sphere = pv.Sphere(radius=rad)#theta_resolution=res,phi_resolution=res)\n",
    "\n",
    "    spheres = []\n",
    "    for coords in branch_points:\n",
    "\n",
    "        # create a \"point cloud\" containing the centers of every cube\n",
    "        mesh = pv.PolyData(coords)\n",
    "\n",
    "        # use a glyph filter to create a cube at each point in polydata\n",
    "        glyphs = mesh.glyph(geom=sphere,scale=True)\n",
    "        spheres.append(glyphs)\n",
    "    return spheres"
   ]
  },
  {
   "cell_type": "code",
   "execution_count": 4,
   "id": "59be021e",
   "metadata": {},
   "outputs": [
    {
     "ename": "KeyError",
     "evalue": "'branchpoints'",
     "output_type": "error",
     "traceback": [
      "\u001b[0;31m---------------------------------------------------------------------------\u001b[0m",
      "\u001b[0;31mKeyError\u001b[0m                                  Traceback (most recent call last)",
      "Input \u001b[0;32mIn [4]\u001b[0m, in \u001b[0;36m<cell line: 5>\u001b[0;34m()\u001b[0m\n\u001b[1;32m      3\u001b[0m end_point \u001b[38;5;241m=\u001b[39m mat_contents[\u001b[38;5;124m'\u001b[39m\u001b[38;5;124mend_point\u001b[39m\u001b[38;5;124m'\u001b[39m]\n\u001b[1;32m      4\u001b[0m query_data \u001b[38;5;241m=\u001b[39m mat_contents[\u001b[38;5;124m'\u001b[39m\u001b[38;5;124mquery_data\u001b[39m\u001b[38;5;124m'\u001b[39m]\n\u001b[0;32m----> 5\u001b[0m branch_points \u001b[38;5;241m=\u001b[39m \u001b[43mmat_contents\u001b[49m\u001b[43m[\u001b[49m\u001b[38;5;124;43m'\u001b[39;49m\u001b[38;5;124;43mbranchpoints\u001b[39;49m\u001b[38;5;124;43m'\u001b[39;49m\u001b[43m]\u001b[49m\n",
      "\u001b[0;31mKeyError\u001b[0m: 'branchpoints'"
     ]
    }
   ],
   "source": [
    "mat_contents = sio.loadmat('/Users/noahschweitzer/Library/CloudStorage/OneDrive-UniversityofPittsburgh/TOF_humans/For_steve/for_pyvista_visualizing.mat')\n",
    "start_point = mat_contents['start_point']\n",
    "end_point = mat_contents['end_point']\n",
    "query_data = mat_contents['query_data']\n",
    "branch_points = mat_contents['branchpoints']"
   ]
  },
  {
   "cell_type": "code",
   "execution_count": null,
   "id": "23e110c4",
   "metadata": {},
   "outputs": [],
   "source": [
    "tubes = create_tubes(start_point, end_point, query_data , streamline_width=0.5)"
   ]
  },
  {
   "cell_type": "code",
   "execution_count": null,
   "id": "acec8933",
   "metadata": {},
   "outputs": [],
   "source": [
    "spheres = create_spheres(branch_points)"
   ]
  },
  {
   "cell_type": "code",
   "execution_count": null,
   "id": "0bdf9a64",
   "metadata": {},
   "outputs": [],
   "source": [
    "mesh2 = pv.MultiBlock(tubes).combine().extract_surface().clean() # see note regarding merge vs boolean add"
   ]
  },
  {
   "cell_type": "code",
   "execution_count": null,
   "id": "6412644c",
   "metadata": {},
   "outputs": [],
   "source": [
    "mesh = pv.MultiBlock(spheres).combine().extract_surface().clean() # see note regarding merge vs boolean add"
   ]
  },
  {
   "cell_type": "code",
   "execution_count": null,
   "id": "8438b04a",
   "metadata": {},
   "outputs": [],
   "source": [
    "pv.set_plot_theme(\"document\")  ## white background\n",
    "\n",
    "plotter = BackgroundPlotter()\n",
    "plotter.add_mesh(mesh,color='red') #\n",
    "plotter.add_mesh(mesh2, scalars=\"query\", cmap=\"viridis\")\n",
    "plotter.show_axes()"
   ]
  },
  {
   "cell_type": "code",
   "execution_count": null,
   "id": "c5d49e2a",
   "metadata": {},
   "outputs": [],
   "source": [
    "tubes[0]"
   ]
  },
  {
   "cell_type": "code",
   "execution_count": null,
   "id": "071cf4bb",
   "metadata": {},
   "outputs": [],
   "source": [
    "spheres[0]"
   ]
  },
  {
   "cell_type": "code",
   "execution_count": null,
   "id": "3a80263a",
   "metadata": {},
   "outputs": [],
   "source": []
  }
 ],
 "metadata": {
  "kernelspec": {
   "display_name": "Python 3 (ipykernel)",
   "language": "python",
   "name": "python3"
  },
  "language_info": {
   "codemirror_mode": {
    "name": "ipython",
    "version": 3
   },
   "file_extension": ".py",
   "mimetype": "text/x-python",
   "name": "python",
   "nbconvert_exporter": "python",
   "pygments_lexer": "ipython3",
   "version": "3.9.12"
  }
 },
 "nbformat": 4,
 "nbformat_minor": 5
}
